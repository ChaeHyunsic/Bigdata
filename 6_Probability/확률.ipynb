{
 "cells": [
  {
   "cell_type": "markdown",
   "metadata": {
    "id": "BPP51lQGK2BC"
   },
   "source": [
    "## pgmpy로 공부한 확률론\n",
    "- 데이터사이언스스쿨 6장\n",
    "\n",
    "### 1. 집합\n",
    "- set: mutable 자료형, {} 기호\n",
    "- frozenset: 내용 변경할 수 없는 immutable 자료형"
   ]
  },
  {
   "cell_type": "markdown",
   "metadata": {
    "id": "V6M7VKw1K2BF"
   },
   "source": [
    "#### 집합과 원소"
   ]
  },
  {
   "cell_type": "code",
   "execution_count": 40,
   "metadata": {
    "colab": {
     "base_uri": "https://localhost:8080/"
    },
    "executionInfo": {
     "elapsed": 7,
     "status": "ok",
     "timestamp": 1669270165603,
     "user": {
      "displayName": "채현식",
      "userId": "01762194508914627309"
     },
     "user_tz": -540
    },
    "id": "Wiosz0w8K2BF",
    "outputId": "178d8ef2-7a3a-4993-efac-719cd1f5600b"
   },
   "outputs": [
    {
     "data": {
      "text/plain": [
       "{1, 2, 3}"
      ]
     },
     "execution_count": 40,
     "metadata": {},
     "output_type": "execute_result"
    }
   ],
   "source": [
    "A = set([1, 2, 3, 3, 2])  # 중복된 자료는 없어진다.\n",
    "A"
   ]
  },
  {
   "cell_type": "code",
   "execution_count": 41,
   "metadata": {
    "colab": {
     "base_uri": "https://localhost:8080/"
    },
    "executionInfo": {
     "elapsed": 6,
     "status": "ok",
     "timestamp": 1669270165604,
     "user": {
      "displayName": "채현식",
      "userId": "01762194508914627309"
     },
     "user_tz": -540
    },
    "id": "rbxSIsaTK2BH",
    "outputId": "030ae06f-6c92-475a-8aa8-117400260d3b"
   },
   "outputs": [
    {
     "data": {
      "text/plain": [
       "frozenset({'H', 'T'})"
      ]
     },
     "execution_count": 41,
     "metadata": {},
     "output_type": "execute_result"
    }
   ],
   "source": [
    "B = frozenset(['H', 'T'])\n",
    "B"
   ]
  },
  {
   "cell_type": "code",
   "execution_count": 42,
   "metadata": {
    "colab": {
     "base_uri": "https://localhost:8080/"
    },
    "executionInfo": {
     "elapsed": 5,
     "status": "ok",
     "timestamp": 1669270165604,
     "user": {
      "displayName": "채현식",
      "userId": "01762194508914627309"
     },
     "user_tz": -540
    },
    "id": "bocC0ssOK2BH",
    "outputId": "5d9ebe6a-0bb0-4ca8-dce3-7aa39bb3590c"
   },
   "outputs": [
    {
     "data": {
      "text/plain": [
       "{'♠', '♡', '♢', '♣'}"
      ]
     },
     "execution_count": 42,
     "metadata": {},
     "output_type": "execute_result"
    }
   ],
   "source": [
    "C = {\"\\u2660\", \"\\u2661\", \"\\u2662\", \"\\u2663\"}     # unicode character도 가능하다\n",
    "C"
   ]
  },
  {
   "cell_type": "code",
   "execution_count": 43,
   "metadata": {
    "colab": {
     "base_uri": "https://localhost:8080/"
    },
    "executionInfo": {
     "elapsed": 361,
     "status": "ok",
     "timestamp": 1669270165961,
     "user": {
      "displayName": "채현식",
      "userId": "01762194508914627309"
     },
     "user_tz": -540
    },
    "id": "Tm0U81wlK2BH",
    "outputId": "2b5bec05-fb9d-4a69-e982-a36802ee3bec"
   },
   "outputs": [
    {
     "data": {
      "text/plain": [
       "set"
      ]
     },
     "execution_count": 43,
     "metadata": {},
     "output_type": "execute_result"
    }
   ],
   "source": [
    "type(C)"
   ]
  },
  {
   "cell_type": "markdown",
   "metadata": {
    "id": "L3DsplTJK2BI"
   },
   "source": [
    "#### 집합의 크기\n",
    "- |A|=card(A)=3\n",
    "- len(): 원소의 갯수"
   ]
  },
  {
   "cell_type": "code",
   "execution_count": 44,
   "metadata": {
    "colab": {
     "base_uri": "https://localhost:8080/"
    },
    "executionInfo": {
     "elapsed": 21,
     "status": "ok",
     "timestamp": 1669270165962,
     "user": {
      "displayName": "채현식",
      "userId": "01762194508914627309"
     },
     "user_tz": -540
    },
    "id": "t7JJDGZNK2BI",
    "outputId": "a4beeef4-f22c-4ffd-a4a0-15015ad91f0a"
   },
   "outputs": [
    {
     "data": {
      "text/plain": [
       "(3, 2, 4)"
      ]
     },
     "execution_count": 44,
     "metadata": {},
     "output_type": "execute_result"
    }
   ],
   "source": [
    "len(A), len(B), len(C)"
   ]
  },
  {
   "cell_type": "markdown",
   "metadata": {
    "id": "Lv7XKE1rK2BJ"
   },
   "source": [
    "#### 합집합과 교집합\n",
    "- union, intersection 메서드\n",
    "- |, & 연산자"
   ]
  },
  {
   "cell_type": "code",
   "execution_count": 45,
   "metadata": {
    "id": "eUE3xSqyK2BJ"
   },
   "outputs": [],
   "source": [
    "A1 = set([1, 2, 3, 4])\n",
    "A2 = set([2, 4, 6])\n",
    "A3 = set([1, 2, 3])\n",
    "A4 = set([2, 3, 4, 5, 6])"
   ]
  },
  {
   "cell_type": "code",
   "execution_count": 46,
   "metadata": {
    "colab": {
     "base_uri": "https://localhost:8080/"
    },
    "executionInfo": {
     "elapsed": 17,
     "status": "ok",
     "timestamp": 1669270165962,
     "user": {
      "displayName": "채현식",
      "userId": "01762194508914627309"
     },
     "user_tz": -540
    },
    "id": "vlJDvBKpK2BK",
    "outputId": "b00531e1-4c0b-46c3-a086-3d2185185d49"
   },
   "outputs": [
    {
     "data": {
      "text/plain": [
       "{1, 2, 3, 4, 6}"
      ]
     },
     "execution_count": 46,
     "metadata": {},
     "output_type": "execute_result"
    }
   ],
   "source": [
    "A1.union(A2)"
   ]
  },
  {
   "cell_type": "code",
   "execution_count": 47,
   "metadata": {
    "colab": {
     "base_uri": "https://localhost:8080/"
    },
    "executionInfo": {
     "elapsed": 14,
     "status": "ok",
     "timestamp": 1669270165962,
     "user": {
      "displayName": "채현식",
      "userId": "01762194508914627309"
     },
     "user_tz": -540
    },
    "id": "7Ga5Zue1K2BK",
    "outputId": "660178cb-c2e8-490b-90be-f97780f6c5dd"
   },
   "outputs": [
    {
     "data": {
      "text/plain": [
       "{1, 2, 3, 4, 6}"
      ]
     },
     "execution_count": 47,
     "metadata": {},
     "output_type": "execute_result"
    }
   ],
   "source": [
    "A1 | A2"
   ]
  },
  {
   "cell_type": "code",
   "execution_count": 48,
   "metadata": {
    "colab": {
     "base_uri": "https://localhost:8080/"
    },
    "executionInfo": {
     "elapsed": 13,
     "status": "ok",
     "timestamp": 1669270165962,
     "user": {
      "displayName": "채현식",
      "userId": "01762194508914627309"
     },
     "user_tz": -540
    },
    "id": "89-fujDWK2BK",
    "outputId": "4cdcae34-241d-47c1-f020-6e89437e7e31"
   },
   "outputs": [
    {
     "data": {
      "text/plain": [
       "{2, 3}"
      ]
     },
     "execution_count": 48,
     "metadata": {},
     "output_type": "execute_result"
    }
   ],
   "source": [
    "A3.intersection(A4)"
   ]
  },
  {
   "cell_type": "code",
   "execution_count": 49,
   "metadata": {
    "colab": {
     "base_uri": "https://localhost:8080/"
    },
    "executionInfo": {
     "elapsed": 12,
     "status": "ok",
     "timestamp": 1669270165963,
     "user": {
      "displayName": "채현식",
      "userId": "01762194508914627309"
     },
     "user_tz": -540
    },
    "id": "ydttuO0eK2BK",
    "outputId": "c3aaddcd-9da9-4209-df3e-5a4add376bc4"
   },
   "outputs": [
    {
     "data": {
      "text/plain": [
       "{2, 3}"
      ]
     },
     "execution_count": 49,
     "metadata": {},
     "output_type": "execute_result"
    }
   ],
   "source": [
    "A4 & A3"
   ]
  },
  {
   "cell_type": "markdown",
   "metadata": {
    "id": "4TX9MgqIK2BL"
   },
   "source": [
    "#### 전체집합, 부분집합, 여집합\n",
    "- issubset() 메소드\n",
    "- <= 연산자"
   ]
  },
  {
   "cell_type": "code",
   "execution_count": 50,
   "metadata": {
    "colab": {
     "base_uri": "https://localhost:8080/"
    },
    "executionInfo": {
     "elapsed": 11,
     "status": "ok",
     "timestamp": 1669270165963,
     "user": {
      "displayName": "채현식",
      "userId": "01762194508914627309"
     },
     "user_tz": -540
    },
    "id": "sE4Jk1SUK2BL",
    "outputId": "e034badf-375c-4d0c-d187-80b9686ee2a6"
   },
   "outputs": [
    {
     "data": {
      "text/plain": [
       "True"
      ]
     },
     "execution_count": 50,
     "metadata": {},
     "output_type": "execute_result"
    }
   ],
   "source": [
    "A3.issubset(A1)"
   ]
  },
  {
   "cell_type": "code",
   "execution_count": 51,
   "metadata": {
    "colab": {
     "base_uri": "https://localhost:8080/"
    },
    "executionInfo": {
     "elapsed": 10,
     "status": "ok",
     "timestamp": 1669270165963,
     "user": {
      "displayName": "채현식",
      "userId": "01762194508914627309"
     },
     "user_tz": -540
    },
    "id": "yRSKd2hVK2BL",
    "outputId": "d7460386-e301-4a01-8c8f-277f54aa2d0e"
   },
   "outputs": [
    {
     "data": {
      "text/plain": [
       "True"
      ]
     },
     "execution_count": 51,
     "metadata": {},
     "output_type": "execute_result"
    }
   ],
   "source": [
    "A3 <= A1"
   ]
  },
  {
   "cell_type": "code",
   "execution_count": 52,
   "metadata": {
    "colab": {
     "base_uri": "https://localhost:8080/"
    },
    "executionInfo": {
     "elapsed": 9,
     "status": "ok",
     "timestamp": 1669270165963,
     "user": {
      "displayName": "채현식",
      "userId": "01762194508914627309"
     },
     "user_tz": -540
    },
    "id": "v88CjjE5K2BL",
    "outputId": "d3fa481c-9041-4793-b9be-7f07363c4dba"
   },
   "outputs": [
    {
     "data": {
      "text/plain": [
       "False"
      ]
     },
     "execution_count": 52,
     "metadata": {},
     "output_type": "execute_result"
    }
   ],
   "source": [
    "A3.issubset(A2)"
   ]
  },
  {
   "cell_type": "code",
   "execution_count": 53,
   "metadata": {
    "colab": {
     "base_uri": "https://localhost:8080/"
    },
    "executionInfo": {
     "elapsed": 9,
     "status": "ok",
     "timestamp": 1669270165964,
     "user": {
      "displayName": "채현식",
      "userId": "01762194508914627309"
     },
     "user_tz": -540
    },
    "id": "G1B7eYljK2BM",
    "outputId": "a72b3e63-251e-4aa6-eb37-88e29bc44833"
   },
   "outputs": [
    {
     "data": {
      "text/plain": [
       "True"
      ]
     },
     "execution_count": 53,
     "metadata": {},
     "output_type": "execute_result"
    }
   ],
   "source": [
    "A3 <= A3  # 모든 집합은 자기 자신의 부분집합이다."
   ]
  },
  {
   "cell_type": "code",
   "execution_count": 54,
   "metadata": {
    "colab": {
     "base_uri": "https://localhost:8080/"
    },
    "executionInfo": {
     "elapsed": 9,
     "status": "ok",
     "timestamp": 1669270165964,
     "user": {
      "displayName": "채현식",
      "userId": "01762194508914627309"
     },
     "user_tz": -540
    },
    "id": "bqN6dLRwK2BM",
    "outputId": "a0b4156b-14d8-4cf6-e738-84f879baf865"
   },
   "outputs": [
    {
     "data": {
      "text/plain": [
       "False"
      ]
     },
     "execution_count": 54,
     "metadata": {},
     "output_type": "execute_result"
    }
   ],
   "source": [
    "A3 < A3  # 모든 집합은 자기 자신의 진부분집합이 아니다."
   ]
  },
  {
   "cell_type": "markdown",
   "metadata": {
    "id": "lnFw47pQK2BM"
   },
   "source": [
    "#### 차집합과 여집합\n",
    "- difference() method\n",
    "- '-' 연산자"
   ]
  },
  {
   "cell_type": "code",
   "execution_count": 55,
   "metadata": {
    "colab": {
     "base_uri": "https://localhost:8080/"
    },
    "executionInfo": {
     "elapsed": 8,
     "status": "ok",
     "timestamp": 1669270165964,
     "user": {
      "displayName": "채현식",
      "userId": "01762194508914627309"
     },
     "user_tz": -540
    },
    "id": "F2Y10IBVK2BM",
    "outputId": "50949475-ff17-4732-fe43-6f5ceb58ff0b"
   },
   "outputs": [
    {
     "data": {
      "text/plain": [
       "{1, 3}"
      ]
     },
     "execution_count": 55,
     "metadata": {},
     "output_type": "execute_result"
    }
   ],
   "source": [
    "A1.difference(A2)"
   ]
  },
  {
   "cell_type": "code",
   "execution_count": 56,
   "metadata": {
    "colab": {
     "base_uri": "https://localhost:8080/"
    },
    "executionInfo": {
     "elapsed": 8,
     "status": "ok",
     "timestamp": 1669270165965,
     "user": {
      "displayName": "채현식",
      "userId": "01762194508914627309"
     },
     "user_tz": -540
    },
    "id": "F1EAjcsRK2BM",
    "outputId": "41102f89-2a81-4e4a-a29b-f71da56432db"
   },
   "outputs": [
    {
     "data": {
      "text/plain": [
       "{1, 3}"
      ]
     },
     "execution_count": 56,
     "metadata": {},
     "output_type": "execute_result"
    }
   ],
   "source": [
    "A1 - A2"
   ]
  },
  {
   "cell_type": "markdown",
   "metadata": {
    "id": "f2fdRBQFK2BN"
   },
   "source": [
    "#### 공집합"
   ]
  },
  {
   "cell_type": "code",
   "execution_count": 57,
   "metadata": {
    "colab": {
     "base_uri": "https://localhost:8080/"
    },
    "executionInfo": {
     "elapsed": 8,
     "status": "ok",
     "timestamp": 1669270165965,
     "user": {
      "displayName": "채현식",
      "userId": "01762194508914627309"
     },
     "user_tz": -540
    },
    "id": "kGwI6QKXK2BN",
    "outputId": "a9ffa7c7-2347-4363-9853-3fc343d96444"
   },
   "outputs": [
    {
     "data": {
      "text/plain": [
       "set()"
      ]
     },
     "execution_count": 57,
     "metadata": {},
     "output_type": "execute_result"
    }
   ],
   "source": [
    "empty_set = set([])\n",
    "empty_set"
   ]
  },
  {
   "cell_type": "code",
   "execution_count": 58,
   "metadata": {
    "colab": {
     "base_uri": "https://localhost:8080/"
    },
    "executionInfo": {
     "elapsed": 7,
     "status": "ok",
     "timestamp": 1669270165965,
     "user": {
      "displayName": "채현식",
      "userId": "01762194508914627309"
     },
     "user_tz": -540
    },
    "id": "IV_qOmTrK2BN",
    "outputId": "a42a4b3f-94c6-4ce7-9757-a97bba071ee5"
   },
   "outputs": [
    {
     "data": {
      "text/plain": [
       "True"
      ]
     },
     "execution_count": 58,
     "metadata": {},
     "output_type": "execute_result"
    }
   ],
   "source": [
    "empty_set < A1"
   ]
  },
  {
   "cell_type": "code",
   "execution_count": 59,
   "metadata": {
    "colab": {
     "base_uri": "https://localhost:8080/"
    },
    "executionInfo": {
     "elapsed": 7,
     "status": "ok",
     "timestamp": 1669270165965,
     "user": {
      "displayName": "채현식",
      "userId": "01762194508914627309"
     },
     "user_tz": -540
    },
    "id": "LtxYM__mK2BN",
    "outputId": "3af9ccb8-590a-4f0e-8734-f64086e93195"
   },
   "outputs": [
    {
     "data": {
      "text/plain": [
       "set()"
      ]
     },
     "execution_count": 59,
     "metadata": {},
     "output_type": "execute_result"
    }
   ],
   "source": [
    "empty_set.intersection(A1)"
   ]
  },
  {
   "cell_type": "code",
   "execution_count": 60,
   "metadata": {
    "colab": {
     "base_uri": "https://localhost:8080/"
    },
    "executionInfo": {
     "elapsed": 433,
     "status": "ok",
     "timestamp": 1669270166391,
     "user": {
      "displayName": "채현식",
      "userId": "01762194508914627309"
     },
     "user_tz": -540
    },
    "id": "qZ3OE5V1K2BN",
    "outputId": "b2f53f8c-6719-46ba-e388-c77ef329b310"
   },
   "outputs": [
    {
     "data": {
      "text/plain": [
       "{1, 2, 3, 4}"
      ]
     },
     "execution_count": 60,
     "metadata": {},
     "output_type": "execute_result"
    }
   ],
   "source": [
    "empty_set.union(A1)"
   ]
  },
  {
   "cell_type": "markdown",
   "metadata": {
    "id": "Rw00PPQhK2BN"
   },
   "source": [
    "#### 부분집합"
   ]
  },
  {
   "cell_type": "code",
   "execution_count": 61,
   "metadata": {
    "colab": {
     "base_uri": "https://localhost:8080/"
    },
    "executionInfo": {
     "elapsed": 9,
     "status": "ok",
     "timestamp": 1669270166392,
     "user": {
      "displayName": "채현식",
      "userId": "01762194508914627309"
     },
     "user_tz": -540
    },
    "id": "Qr6_u8H5K2BO",
    "outputId": "45bd9b2b-775b-48e2-c735-ed5dc1753bb1"
   },
   "outputs": [
    {
     "data": {
      "text/plain": [
       "{frozenset(), frozenset({'H'}), frozenset({'T'}), frozenset({'H', 'T'})}"
      ]
     },
     "execution_count": 61,
     "metadata": {},
     "output_type": "execute_result"
    }
   ],
   "source": [
    "A = frozenset([])\n",
    "B = frozenset(['H'])\n",
    "C = frozenset(['T'])\n",
    "D = frozenset(['H', 'T'])\n",
    "set([A, B, C, D])"
   ]
  },
  {
   "cell_type": "markdown",
   "metadata": {
    "id": "3erSCCVsK2BO"
   },
   "source": [
    "### 2. 확률\n",
    "- 확률: 사건(부분집합)을 입력하면 숫자(확률값)가 출력되는 함수"
   ]
  },
  {
   "cell_type": "code",
   "execution_count": 62,
   "metadata": {
    "colab": {
     "base_uri": "https://localhost:8080/"
    },
    "executionInfo": {
     "elapsed": 9,
     "status": "ok",
     "timestamp": 1669270166392,
     "user": {
      "displayName": "채현식",
      "userId": "01762194508914627309"
     },
     "user_tz": -540
    },
    "id": "99MJqq9jK2BO",
    "outputId": "0466ae9c-f39d-4103-e6ac-e97e63b07d11"
   },
   "outputs": [
    {
     "data": {
      "text/plain": [
       "{frozenset(): 0,\n",
       " frozenset({'H'}): 0.4,\n",
       " frozenset({'T'}): 0.6,\n",
       " frozenset({'H', 'T'}): 1}"
      ]
     },
     "execution_count": 62,
     "metadata": {},
     "output_type": "execute_result"
    }
   ],
   "source": [
    "P = {A: 0, B: 0.4, C: 0.6, D: 1}\n",
    "P"
   ]
  },
  {
   "cell_type": "markdown",
   "metadata": {
    "id": "U3Q2qNvjK2BO"
   },
   "source": [
    "### 4. 확률분포함수\n",
    "- **확률분포(probability distribution)**: 어떤 사건에 어느 정도의 확률이 할당되었는지 묘사한 정보\n",
    "> - 확률질량함수: 유한 개의 사건이 존재하는 경우 각 단순사건에 대한 확률만 정의하는 함수\n",
    "> - 누적분포함수\n",
    "       - 표본 수가 무한하고 모든 표본에 대해 표본 하나만을 가진 사건의 확률이 동일하다면, 표본 하나에 대한 사건의 확률은 언제나 0\n",
    "       - F(x)=P(Sx)=P({X<x})Sx={−∞<X≤x}\n",
    "> - 확률밀도함수: 누적분포함수를 미분하여 구한 도함수    "
   ]
  },
  {
   "cell_type": "code",
   "execution_count": 63,
   "metadata": {
    "colab": {
     "base_uri": "https://localhost:8080/",
     "height": 279
    },
    "executionInfo": {
     "elapsed": 334,
     "status": "ok",
     "timestamp": 1669270373507,
     "user": {
      "displayName": "채현식",
      "userId": "01762194508914627309"
     },
     "user_tz": -540
    },
    "id": "-L8lZJc_K2BO",
    "outputId": "0a19c1ce-f0ca-4e07-8901-a095305ddc0b"
   },
   "outputs": [
    {
     "data": {
      "image/png": "[encoded data removed]",
      "text/plain": [
       "<Figure size 432x288 with 1 Axes>"
      ]
     },
     "metadata": {
      "needs_background": "light"
     },
     "output_type": "display_data"
    }
   ],
   "source": [
    "#한글 폰트 설정\n",
    "\n",
    "from matplotlib import font_manager, rc\n",
    "import matplotlib.pyplot as plt\n",
    "\n",
    "font_location = \"c:/Windows/fonts/malgun.ttf\"\n",
    "font_name = font_manager.FontProperties(fname=font_location).get_name()\n",
    "rc('font', family=font_name)\n",
    "\n",
    "plt.plot([1,2,3,4])\n",
    "plt.xlabel('x축 한글표시')\n",
    "plt.show()"
   ]
  },
  {
   "cell_type": "code",
   "execution_count": 75,
   "metadata": {
    "colab": {
     "base_uri": "https://localhost:8080/",
     "height": 1000
    },
    "executionInfo": {
     "elapsed": 316,
     "status": "ok",
     "timestamp": 1669270400597,
     "user": {
      "displayName": "채현식",
      "userId": "01762194508914627309"
     },
     "user_tz": -540
    },
    "id": "8B59Uha4K2BO",
    "outputId": "30218ea3-555b-413f-dbce-d1cdd73301a6"
   },
   "outputs": [
    {
     "data": {
      "image/png": "[encoded data removed]",
      "text/plain": [
       "<Figure size 432x288 with 1 Axes>"
      ]
     },
     "metadata": {
      "needs_background": "light"
     },
     "output_type": "display_data"
    }
   ],
   "source": [
    "import numpy as np\n",
    "\n",
    "# 확률질량함수\n",
    "x = np.arange(1, 7)\n",
    "y = np.array([0.1, 0.1, 0.1, 0.1, 0.1, 0.5])\n",
    "plt.stem(x, y)                                  # x에 수직선, y값에 마크표시\n",
    "plt.title(\"조작된 주사위의 확률질량함수\")\n",
    "plt.xlabel(\"숫자면\")\n",
    "plt.ylabel(\"확률\")\n",
    "plt.xlim(0, 7)\n",
    "plt.ylim(-0.01, 0.6)\n",
    "plt.xticks(np.arange(6) + 1)\n",
    "plt.show()"
   ]
  },
  {
   "cell_type": "code",
   "execution_count": 65,
   "metadata": {
    "colab": {
     "base_uri": "https://localhost:8080/",
     "height": 784
    },
    "executionInfo": {
     "elapsed": 417,
     "status": "ok",
     "timestamp": 1669270401343,
     "user": {
      "displayName": "채현식",
      "userId": "01762194508914627309"
     },
     "user_tz": -540
    },
    "id": "rjInBNLYK2BP",
    "outputId": "a8a85166-3a43-46bd-b779-c50b19e6ea65"
   },
   "outputs": [
    {
     "data": {
      "image/png": "[encoded data removed]",
      "text/plain": [
       "<Figure size 432x288 with 1 Axes>"
      ]
     },
     "metadata": {
      "needs_background": "light"
     },
     "output_type": "display_data"
    }
   ],
   "source": [
    "# 누적분포함수: \n",
    "t = np.linspace(-100, 500, 100)            # start, end, num : start부터 end까지 num개의 원소를 만들어라\n",
    "F = t / 360   # 누적분포함수\n",
    "F[t < 0] = 0\n",
    "F[t > 360] = 1\n",
    "plt.plot(t, F)\n",
    "plt.ylim(-0.1, 1.1)\n",
    "plt.xticks([0, 180, 360])\n",
    "plt.title(\"누적분포함수\")\n",
    "plt.xlabel(\"$x$ (도)\")\n",
    "plt.ylabel(\"$F(x)$\")\n",
    "plt.show()"
   ]
  },
  {
   "cell_type": "code",
   "execution_count": 66,
   "metadata": {
    "colab": {
     "base_uri": "https://localhost:8080/",
     "height": 784
    },
    "executionInfo": {
     "elapsed": 385,
     "status": "ok",
     "timestamp": 1669270401725,
     "user": {
      "displayName": "채현식",
      "userId": "01762194508914627309"
     },
     "user_tz": -540
    },
    "id": "5oWQI0ghK2BP",
    "outputId": "ee4274d2-5e0c-47f5-d8ae-6f2ec2ad2bc1"
   },
   "outputs": [
    {
     "data": {
      "image/png": "[encoded data removed]",
      "text/plain": [
       "<Figure size 432x288 with 1 Axes>"
      ]
     },
     "metadata": {
      "needs_background": "light"
     },
     "output_type": "display_data"
    }
   ],
   "source": [
    "# 확률밀도함수\n",
    "t = np.linspace(-100, 500, 1000)\n",
    "F = t / 360\n",
    "F[t < 0] = 0\n",
    "F[t > 360] = 1\n",
    "\n",
    "p = np.gradient(F, 600/1000)  # 수치미분\n",
    "\n",
    "plt.plot(t, p)\n",
    "plt.ylim(-0.0001, p.max()*1.1)\n",
    "plt.xticks([0, 180, 360])\n",
    "plt.title(\"확률밀도함수\")\n",
    "plt.xlabel(\"$x$ (도)\")\n",
    "plt.ylabel(\"$p(x)$\")\n",
    "plt.show()"
   ]
  },
  {
   "cell_type": "markdown",
   "metadata": {
    "id": "WrAMSlnXK2BP"
   },
   "source": [
    "### 결합확률과 조건부확률\n",
    "- JointProbabilityDistribution 클래스: 결합확률 모형을 만드는 데 사용하는 클래스\n",
    "> JointProbabilityDistribution(variables, cardinality, values)\n",
    "    - variables: 확률변수의 이름 문자열의 리스트. 정의하려는 확률변수가 하나인 경우에도 리스트로 넣어야 한다.\n",
    "    - cardinality: 각 확률변수의 표본 혹은 배타적 사건의 수의 리스트\n",
    "    - values: 확률변수의 모든 표본(조합)에 대한 (결합)확률값의 리스트"
   ]
  },
  {
   "cell_type": "code",
   "execution_count": 67,
   "metadata": {
    "colab": {
     "base_uri": "https://localhost:8080/"
    },
    "executionInfo": {
     "elapsed": 5346,
     "status": "ok",
     "timestamp": 1669270580290,
     "user": {
      "displayName": "채현식",
      "userId": "01762194508914627309"
     },
     "user_tz": -540
    },
    "id": "1YFvkyrlK2BP",
    "outputId": "41f2fe5c-45d6-4b02-f01c-280bb23bb21c"
   },
   "outputs": [
    {
     "name": "stdout",
     "output_type": "stream",
     "text": [
      "+------+--------+\n",
      "| X    |   P(X) |\n",
      "+======+========+\n",
      "| X(0) | 0.6000 |\n",
      "+------+--------+\n",
      "| X(1) | 0.4000 |\n",
      "+------+--------+\n"
     ]
    }
   ],
   "source": [
    "from pgmpy.factors.discrete import JointProbabilityDistribution as JPD\n",
    "\n",
    "px = JPD(['X'], [2], np.array([12, 8]) / 20)\n",
    "print(px)"
   ]
  },
  {
   "cell_type": "code",
   "execution_count": 68,
   "metadata": {
    "colab": {
     "base_uri": "https://localhost:8080/"
    },
    "executionInfo": {
     "elapsed": 12,
     "status": "ok",
     "timestamp": 1669270580291,
     "user": {
      "displayName": "채현식",
      "userId": "01762194508914627309"
     },
     "user_tz": -540
    },
    "id": "76dnQpCyK2BP",
    "outputId": "4024ea00-ee44-46da-e7d6-ff48732cc043"
   },
   "outputs": [
    {
     "name": "stdout",
     "output_type": "stream",
     "text": [
      "+------+------+----------+\n",
      "| X    | Y    |   P(X,Y) |\n",
      "+======+======+==========+\n",
      "| X(0) | Y(0) |   0.1500 |\n",
      "+------+------+----------+\n",
      "| X(0) | Y(1) |   0.4500 |\n",
      "+------+------+----------+\n",
      "| X(1) | Y(0) |   0.3500 |\n",
      "+------+------+----------+\n",
      "| X(1) | Y(1) |   0.0500 |\n",
      "+------+------+----------+\n"
     ]
    }
   ],
   "source": [
    "# 확률변수 X와 확률변수 Y의 결합확률\n",
    "pxy = JPD(['X', 'Y'], [2, 2], np.array([3, 9, 7, 1]) / 20)\n",
    "print(pxy)"
   ]
  },
  {
   "cell_type": "markdown",
   "metadata": {
    "id": "nnGJYbRxK2BP"
   },
   "source": [
    "- marginal_distribution(values, inplace=True): 주변확률분포\n",
    "    - values: 주변확률을 구할 확률변수의 이름 문자열 리스트\n",
    "    - inplace: True이면 객체 자신을 주변확률 모형으로 변화시킨다. False면 주변확률 모형 객체를 반환한다.\n",
    "\n",
    "- marginalize(values, inplace=True): 주변확률\n",
    "    - values: 어떤 확률변수의 주변확률을 구하기 위해 없앨 확률변수의 이름 문자열 리스트\n",
    "    - inplace: True이면 객체 자신을 주변확률 모형으로 변화시킨다. False면 주변확률 모형 객체를 반환한다.\n",
    "    \n",
    "- conditional_distribution(values, inplace=True): 조건부확률분포\n",
    "    - values: 주변확률을 구할 확률변수의 이름 문자열과 값을 묶은 튜플의 리스트\n",
    "    - inplace: True이면 객체 자신을 조건부확률 모형으로 변화시킨다. False면 조건부확률 모형 객체를 반환한다."
   ]
  },
  {
   "cell_type": "code",
   "execution_count": 69,
   "metadata": {
    "colab": {
     "base_uri": "https://localhost:8080/"
    },
    "executionInfo": {
     "elapsed": 27,
     "status": "ok",
     "timestamp": 1669270580778,
     "user": {
      "displayName": "채현식",
      "userId": "01762194508914627309"
     },
     "user_tz": -540
    },
    "id": "pg793TbdK2BQ",
    "outputId": "f5cda425-b186-40d8-a3f8-9970c699fcad"
   },
   "outputs": [
    {
     "name": "stdout",
     "output_type": "stream",
     "text": [
      "+------+--------+\n",
      "| X    |   P(X) |\n",
      "+======+========+\n",
      "| X(0) | 0.6000 |\n",
      "+------+--------+\n",
      "| X(1) | 0.4000 |\n",
      "+------+--------+\n"
     ]
    }
   ],
   "source": [
    "pmx = pxy.marginal_distribution(['X'], inplace=False)\n",
    "print(pmx)"
   ]
  },
  {
   "cell_type": "code",
   "execution_count": 70,
   "metadata": {
    "colab": {
     "base_uri": "https://localhost:8080/"
    },
    "executionInfo": {
     "elapsed": 27,
     "status": "ok",
     "timestamp": 1669270580779,
     "user": {
      "displayName": "채현식",
      "userId": "01762194508914627309"
     },
     "user_tz": -540
    },
    "id": "Q4bQALSeK2BQ",
    "outputId": "65e8ac52-1f92-40f6-c8ea-90e877cfef74"
   },
   "outputs": [
    {
     "name": "stdout",
     "output_type": "stream",
     "text": [
      "+------+--------+\n",
      "| X    |   P(X) |\n",
      "+======+========+\n",
      "| X(0) | 0.6000 |\n",
      "+------+--------+\n",
      "| X(1) | 0.4000 |\n",
      "+------+--------+\n"
     ]
    }
   ],
   "source": [
    "pmx = pxy.marginalize(['Y'], inplace=False)\n",
    "print(pmx)"
   ]
  },
  {
   "cell_type": "code",
   "execution_count": 71,
   "metadata": {
    "colab": {
     "base_uri": "https://localhost:8080/"
    },
    "executionInfo": {
     "elapsed": 17,
     "status": "ok",
     "timestamp": 1669270580779,
     "user": {
      "displayName": "채현식",
      "userId": "01762194508914627309"
     },
     "user_tz": -540
    },
    "id": "vRIFycL9K2BQ",
    "outputId": "ee9df974-1ce2-419c-90ba-f1c592eea8b6"
   },
   "outputs": [
    {
     "name": "stdout",
     "output_type": "stream",
     "text": [
      "+------+--------+\n",
      "| Y    |   P(Y) |\n",
      "+======+========+\n",
      "| Y(0) | 0.5000 |\n",
      "+------+--------+\n",
      "| Y(1) | 0.5000 |\n",
      "+------+--------+\n"
     ]
    }
   ],
   "source": [
    "py = pxy.marginal_distribution(['Y'], inplace=False)\n",
    "print(py)"
   ]
  },
  {
   "cell_type": "code",
   "execution_count": 72,
   "metadata": {
    "colab": {
     "base_uri": "https://localhost:8080/"
    },
    "executionInfo": {
     "elapsed": 14,
     "status": "ok",
     "timestamp": 1669270580779,
     "user": {
      "displayName": "채현식",
      "userId": "01762194508914627309"
     },
     "user_tz": -540
    },
    "id": "2d5Udr3NK2BQ",
    "outputId": "be1ab4d5-1b06-4c90-c4b7-05be5333c3f7"
   },
   "outputs": [
    {
     "name": "stdout",
     "output_type": "stream",
     "text": [
      "+------+--------+\n",
      "| Y    |   P(Y) |\n",
      "+======+========+\n",
      "| Y(0) | 0.2500 |\n",
      "+------+--------+\n",
      "| Y(1) | 0.7500 |\n",
      "+------+--------+\n"
     ]
    }
   ],
   "source": [
    "py_on_x0 = pxy.conditional_distribution([('X', 0)], inplace=False)  # 사건 A에 대한 조건부확률\n",
    "print(py_on_x0)"
   ]
  },
  {
   "cell_type": "code",
   "execution_count": 73,
   "metadata": {
    "colab": {
     "base_uri": "https://localhost:8080/"
    },
    "executionInfo": {
     "elapsed": 9,
     "status": "ok",
     "timestamp": 1669270580779,
     "user": {
      "displayName": "채현식",
      "userId": "01762194508914627309"
     },
     "user_tz": -540
    },
    "id": "vZAIk4jYK2BQ",
    "outputId": "5748c47e-f93b-4216-af09-be4b2d47f9b4"
   },
   "outputs": [
    {
     "name": "stdout",
     "output_type": "stream",
     "text": [
      "+------+--------+\n",
      "| Y    |   P(Y) |\n",
      "+======+========+\n",
      "| Y(0) | 0.8750 |\n",
      "+------+--------+\n",
      "| Y(1) | 0.1250 |\n",
      "+------+--------+\n"
     ]
    }
   ],
   "source": [
    "py_on_x1 = pxy.conditional_distribution([('X', 1)], inplace=False)\n",
    "print(py_on_x1)"
   ]
  },
  {
   "cell_type": "code",
   "execution_count": null,
   "metadata": {
    "executionInfo": {
     "elapsed": 5,
     "status": "ok",
     "timestamp": 1669270580780,
     "user": {
      "displayName": "채현식",
      "userId": "01762194508914627309"
     },
     "user_tz": -540
    },
    "id": "vM-iUUyXK2BQ"
   },
   "outputs": [],
   "source": []
  }
 ],
 "metadata": {
  "colab": {
   "collapsed_sections": [
    "f2fdRBQFK2BN",
    "Rw00PPQhK2BN"
   ],
   "provenance": []
  },
  "kernelspec": {
   "display_name": "Python 3 (ipykernel)",
   "language": "python",
   "name": "python3"
  },
  "language_info": {
   "codemirror_mode": {
    "name": "ipython",
    "version": 3
   },
   "file_extension": ".py",
   "mimetype": "text/x-python",
   "name": "python",
   "nbconvert_exporter": "python",
   "pygments_lexer": "ipython3",
   "version": "3.9.12"
  }
 },
 "nbformat": 4,
 "nbformat_minor": 1
}

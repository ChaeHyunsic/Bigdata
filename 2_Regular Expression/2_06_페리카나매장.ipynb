{
 "cells": [
  {
   "cell_type": "markdown",
   "metadata": {},
   "source": [
    "![페리카나매장](../images/페리카나매장찾기1.png)"
   ]
  },
  {
   "cell_type": "markdown",
   "metadata": {},
   "source": [
    "![소스보기](../images/페리카나매장찾기_소스보기.png)\n",
    "```\n",
    "<table class=\"table mt20\">\n",
    "```"
   ]
  },
  {
   "cell_type": "markdown",
   "metadata": {},
   "source": [
    "- 페이지 이동\n",
    "![페이지이동](../images/페리카나매장찾기_list_paging.png)\n",
    "\n",
    "```\n",
    "https://pelicana.co.kr/store/stroe_search.html?page=2&branch_name=&gu=&si=\n",
    "```"
   ]
  },
  {
   "cell_type": "code",
   "execution_count": 1,
   "metadata": {},
   "outputs": [],
   "source": [
    "import urllib.request\n",
    "from bs4 import BeautifulSoup\n",
    "import pandas as pd\n",
    "import datetime\n",
    "from itertools import count\n",
    "import ssl\n",
    "import xml.etree.ElementTree as ET"
   ]
  },
  {
   "cell_type": "code",
   "execution_count": 2,
   "metadata": {},
   "outputs": [],
   "source": [
    "def get_request_url(url, enc='utf-8'):\n",
    "    \n",
    "    #context = ssl._create_unverified_context()       # 이것이 없으면 urllib and “SSL: CERTIFICATE_VERIFY_FAILED” Error\n",
    "    req = urllib.request.Request(url)\n",
    "\n",
    "    try: \n",
    "        response = urllib.request.urlopen(req)\n",
    "#        response = urllib.request.urlopen(req, context=context)\n",
    "        if response.getcode() == 200:\n",
    "            try:\n",
    "                rcv = response.read()\n",
    "                ret = rcv.decode(enc)\n",
    "            except UnicodeDecodeError:\n",
    "                ret = rcv.decode(enc, 'replace')    \n",
    "            \n",
    "            return ret\n",
    "            \n",
    "    except Exception as e:\n",
    "        print(e)\n",
    "        print(\"[%s] Error for URL : %s\" % (datetime.datetime.now(), url))\n",
    "        return None"
   ]
  },
  {
   "cell_type": "code",
   "execution_count": 3,
   "metadata": {},
   "outputs": [],
   "source": [
    "def getPelicanaAddress(result):\n",
    "    \n",
    "    for page_idx in count():                # count(): 무한한 정수값 생성하는 iteratot 반환\n",
    "        \n",
    "        Pelicana_URL = 'http://www.pelicana.co.kr/store/stroe_search.html?&branch_name=&gu=&si=&page=%s' % str(page_idx + 1)\n",
    "        print (\"[Pericana Page] : [%s]\" % (str(page_idx + 1)))\n",
    "\n",
    "        rcv_data = get_request_url(Pelicana_URL)\n",
    "        soupData = BeautifulSoup(rcv_data, 'html.parser')\n",
    "        \n",
    "        store_table = soupData.find('table', attrs={'class':'table mt20'})\n",
    "        tbody = store_table.find('tbody')\n",
    "        bEnd = True\n",
    "        for store_tr in tbody.findAll('tr'):\n",
    "            bEnd = False\n",
    "            tr_tag = list(store_tr.strings)\n",
    "            store_name = tr_tag[1]\n",
    "            store_address = tr_tag[3]\n",
    "            store_sido_gu = store_address.split()[:2]\n",
    "\n",
    "            result.append([store_name] + store_sido_gu + [store_address])\n",
    "\n",
    "        if (bEnd == True):\n",
    "            return\n",
    "\n",
    "    return"
   ]
  },
  {
   "cell_type": "code",
   "execution_count": 4,
   "metadata": {},
   "outputs": [
    {
     "name": "stdout",
     "output_type": "stream",
     "text": [
      "[Pericana Page] : [1]\n",
      "[Pericana Page] : [2]\n",
      "[Pericana Page] : [3]\n",
      "[Pericana Page] : [4]\n",
      "[Pericana Page] : [5]\n",
      "[Pericana Page] : [6]\n",
      "[Pericana Page] : [7]\n",
      "[Pericana Page] : [8]\n",
      "[Pericana Page] : [9]\n",
      "[Pericana Page] : [10]\n",
      "[Pericana Page] : [11]\n",
      "[Pericana Page] : [12]\n",
      "[Pericana Page] : [13]\n",
      "[Pericana Page] : [14]\n",
      "[Pericana Page] : [15]\n",
      "[Pericana Page] : [16]\n",
      "[Pericana Page] : [17]\n",
      "[Pericana Page] : [18]\n",
      "[Pericana Page] : [19]\n",
      "[Pericana Page] : [20]\n",
      "[Pericana Page] : [21]\n",
      "[Pericana Page] : [22]\n",
      "[Pericana Page] : [23]\n",
      "[Pericana Page] : [24]\n",
      "[Pericana Page] : [25]\n",
      "[Pericana Page] : [26]\n",
      "[Pericana Page] : [27]\n",
      "[Pericana Page] : [28]\n",
      "[Pericana Page] : [29]\n",
      "[Pericana Page] : [30]\n",
      "[Pericana Page] : [31]\n",
      "[Pericana Page] : [32]\n",
      "[Pericana Page] : [33]\n",
      "[Pericana Page] : [34]\n",
      "[Pericana Page] : [35]\n",
      "[Pericana Page] : [36]\n",
      "[Pericana Page] : [37]\n",
      "[Pericana Page] : [38]\n",
      "[Pericana Page] : [39]\n",
      "[Pericana Page] : [40]\n",
      "[Pericana Page] : [41]\n",
      "[Pericana Page] : [42]\n",
      "[Pericana Page] : [43]\n",
      "[Pericana Page] : [44]\n",
      "[Pericana Page] : [45]\n",
      "[Pericana Page] : [46]\n",
      "[Pericana Page] : [47]\n",
      "[Pericana Page] : [48]\n",
      "[Pericana Page] : [49]\n",
      "[Pericana Page] : [50]\n",
      "[Pericana Page] : [51]\n",
      "[Pericana Page] : [52]\n",
      "[Pericana Page] : [53]\n",
      "[Pericana Page] : [54]\n",
      "[Pericana Page] : [55]\n",
      "[Pericana Page] : [56]\n",
      "[Pericana Page] : [57]\n",
      "[Pericana Page] : [58]\n",
      "[Pericana Page] : [59]\n",
      "[Pericana Page] : [60]\n",
      "[Pericana Page] : [61]\n",
      "[Pericana Page] : [62]\n",
      "[Pericana Page] : [63]\n",
      "[Pericana Page] : [64]\n",
      "[Pericana Page] : [65]\n",
      "[Pericana Page] : [66]\n",
      "[Pericana Page] : [67]\n",
      "[Pericana Page] : [68]\n",
      "[Pericana Page] : [69]\n",
      "[Pericana Page] : [70]\n",
      "[Pericana Page] : [71]\n",
      "[Pericana Page] : [72]\n",
      "[Pericana Page] : [73]\n",
      "[Pericana Page] : [74]\n",
      "[Pericana Page] : [75]\n",
      "[Pericana Page] : [76]\n",
      "[Pericana Page] : [77]\n",
      "[Pericana Page] : [78]\n",
      "[Pericana Page] : [79]\n",
      "[Pericana Page] : [80]\n",
      "[Pericana Page] : [81]\n",
      "[Pericana Page] : [82]\n",
      "[Pericana Page] : [83]\n",
      "[Pericana Page] : [84]\n",
      "[Pericana Page] : [85]\n",
      "[Pericana Page] : [86]\n",
      "[Pericana Page] : [87]\n",
      "[Pericana Page] : [88]\n",
      "[Pericana Page] : [89]\n",
      "[Pericana Page] : [90]\n",
      "[Pericana Page] : [91]\n",
      "[Pericana Page] : [92]\n",
      "[Pericana Page] : [93]\n",
      "[Pericana Page] : [94]\n",
      "[Pericana Page] : [95]\n",
      "[Pericana Page] : [96]\n",
      "[Pericana Page] : [97]\n",
      "[Pericana Page] : [98]\n",
      "[Pericana Page] : [99]\n",
      "[Pericana Page] : [100]\n",
      "[Pericana Page] : [101]\n",
      "[Pericana Page] : [102]\n",
      "[Pericana Page] : [103]\n",
      "[Pericana Page] : [104]\n",
      "[Pericana Page] : [105]\n",
      "[Pericana Page] : [106]\n",
      "[Pericana Page] : [107]\n",
      "[Pericana Page] : [108]\n"
     ]
    }
   ],
   "source": [
    "result = []\n",
    "getPelicanaAddress(result)"
   ]
  },
  {
   "cell_type": "code",
   "execution_count": 5,
   "metadata": {},
   "outputs": [
    {
     "data": {
      "text/plain": [
       "1062"
      ]
     },
     "execution_count": 5,
     "metadata": {},
     "output_type": "execute_result"
    }
   ],
   "source": [
    "len(result)"
   ]
  },
  {
   "cell_type": "code",
   "execution_count": 6,
   "metadata": {},
   "outputs": [
    {
     "data": {
      "text/plain": [
       "['가경동점', '충청북도', '청주시흥덕구', '충청북도 청주시흥덕구 풍산로 103(복대동)']"
      ]
     },
     "execution_count": 6,
     "metadata": {},
     "output_type": "execute_result"
    }
   ],
   "source": [
    "result[0]"
   ]
  },
  {
   "cell_type": "code",
   "execution_count": 7,
   "metadata": {},
   "outputs": [
    {
     "data": {
      "text/plain": [
       "['CNTTEST', '00', '18', '00 18 신사동 주소']"
      ]
     },
     "execution_count": 7,
     "metadata": {},
     "output_type": "execute_result"
    }
   ],
   "source": [
    "result[-1]"
   ]
  },
  {
   "cell_type": "code",
   "execution_count": 8,
   "metadata": {},
   "outputs": [],
   "source": [
    "pericana_table = pd.DataFrame(result, columns=('store', 'sido', 'gungu', 'store_address'))\n",
    "pericana_table.to_csv(\"pericana.csv\", encoding=\"cp949\", mode='w', index=True)"
   ]
  },
  {
   "cell_type": "code",
   "execution_count": 9,
   "metadata": {},
   "outputs": [],
   "source": [
    "        Pelicana_URL = 'http://www.pelicana.co.kr/store/stroe_search.html?&branch_name=&gu=&si=&page=1'\n",
    "\n",
    "        rcv_data = get_request_url(Pelicana_URL)\n",
    "        soupData = BeautifulSoup(rcv_data, 'html.parser')\n",
    "        \n",
    "        store_table = soupData.find('table', attrs={'class':'table mt20'})\n",
    "        tbody = store_table.find('tbody')\n",
    "        bEnd = True\n",
    "        for store_tr in tbody.findAll('tr'):\n",
    "            bEnd = False\n",
    "            tr_tag = list(store_tr.strings)\n",
    "            store_name = tr_tag[1]\n",
    "            store_address = tr_tag[3]\n",
    "            store_sido_gu = store_address.split()[:2]\n",
    "\n",
    "            result.append([store_name] + store_sido_gu + [store_address])\n"
   ]
  },
  {
   "cell_type": "code",
   "execution_count": 10,
   "metadata": {},
   "outputs": [
    {
     "data": {
      "text/plain": [
       "['\\n',\n",
       " '가평역전점',\n",
       " '\\n',\n",
       " '경기도 가평군 가평읍 가화로 54',\n",
       " '\\n',\n",
       " '\\r\\n\\t\\t\\t\\t\\t\\t\\t\\t031-582-5242',\n",
       " '\\n',\n",
       " '상세정보',\n",
       " '\\n']"
      ]
     },
     "execution_count": 10,
     "metadata": {},
     "output_type": "execute_result"
    }
   ],
   "source": [
    "tr_tag"
   ]
  }
 ],
 "metadata": {
  "kernelspec": {
   "display_name": "Python 3 (ipykernel)",
   "language": "python",
   "name": "python3"
  },
  "language_info": {
   "codemirror_mode": {
    "name": "ipython",
    "version": 3
   },
   "file_extension": ".py",
   "mimetype": "text/x-python",
   "name": "python",
   "nbconvert_exporter": "python",
   "pygments_lexer": "ipython3",
   "version": "3.9.12"
  }
 },
 "nbformat": 4,
 "nbformat_minor": 2
}

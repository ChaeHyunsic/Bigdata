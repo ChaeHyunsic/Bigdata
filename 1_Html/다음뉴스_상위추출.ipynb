{
 "cells": [
  {
   "cell_type": "code",
   "execution_count": 17,
   "id": "b66768a6",
   "metadata": {},
   "outputs": [
    {
     "name": "stdout",
     "output_type": "stream",
     "text": [
      "유엔 \"이대로 가면 세기말엔 지구온도 2.5도 높아져\"\n",
      "김규현 국정원장 \"조상준과 인사갈등 없었다…사의 이유 몰라\"\n",
      "오후 9시까지 전국 3만3671명 확진…1주 전보다 8917명 많아\n",
      "국정원장 \"서해피격 첩보에 '월북' 단어 들어가 있다\"\n",
      "제주도 밤하늘에 나타난 빛기둥...기상청에 문의전화 잇따라\n",
      "[단독] 김용 \"빌미 안주려고 유동규와 영상통화\"...檢, 증거인멸교사도 검토\n",
      "임단협 난항 현대중공업그룹 조선 3사 노조, 모두 파업 가결\n",
      "수백억원 벌더니 ‘주먹질’ 난리…잘 나가던 ‘이 남자’ 뜻밖의 근황\n",
      "푸틴 \"우크라, 더티밤 폭발 계획 중\"…러 주요 기반시설에 경계령(상보)\n",
      "국정원장, 피격공무원 한자 구명조끼 \"국내에 없는 걸로 알아\"\n",
      "미 주택담보대출 평균 금리, 20여년 만에 7% 돌파\n",
      "텃밭 가꾸는 학생들..\"우울감 39.2% 개선\"\n",
      "평생의 꿈 이루려 늦깎이 대학생 된 교장 선생님\n",
      "충북 발전 이끌 AI영재고... 유치 경쟁 본격화\n",
      "위기의 SPC, 장기 ‘불매 운동’ 늪에 빠지나 [이슈+]\n",
      "[단독] \"서훈, 월북 발표·첩보 삭제 지시한 적 없어\"\n",
      "“수안보 시립 온천장 폐쇄” 충주시 결정에 주민 반발 확산\n",
      "[날씨] 강한 햇살에 오르는 기온‥남부 지방 최고 기온 20도 웃돌아\n",
      "“일방적 부담 없다”...청주시, 시군 예산 분담 관행 개선 의지\n",
      "푸틴, 전략핵무대 미사일 시험발사 훈련 시찰\n",
      "박지현 \"尹 시정연설에 절망…산재로 숨진 SPC 청년 없어\"\n",
      "[포착] 지금 하늘에 뜬 저 빛기둥은 뭔가요\n",
      "[엄마의 심신단련] 어설프게 보여도... 리듬 타는 중입니다\n",
      "위기의 SPC, 장기 ‘불매 운동’ 늪에 빠지나 [이슈+]\n",
      "괴산을 파는 괴산의 작은 서점 [책방지기의 서가]\n",
      "[60초 뉴스] 카톡으로 보낸 메시지, 라인에서 본다?\n",
      "[뭐라노]개봉! ‘죽어도 자이언츠’\n",
      "[여랑야랑]김의겸, 상의 없이 / 여야의 물귀신 작전?\n",
      "‘이것은 바다의 별’…제주 밤하늘 수놓은 빛기둥\n",
      "한·남아공 비즈니스 포럼 및 원자력 협력 세미나\n",
      "가을이 깊어가는 한양도성과 경북궁\n",
      "흑두루미 위해 전봇대 뽑고 농경지 남겨놓은 순천만\n"
     ]
    }
   ],
   "source": [
    "from urllib.request import urlopen\n",
    "from bs4 import BeautifulSoup  \n",
    "    \n",
    "url = 'https://news.daum.net'\n",
    "html = urlopen(url)\n",
    "bs = BeautifulSoup(html, 'html.parser')\n",
    "\n",
    "allText = bs.find_all('strong', {'class':{'tit_g'}})\n",
    "\n",
    "for text in allText:\n",
    "    print(text.get_text().strip())"
   ]
  },
  {
   "cell_type": "code",
   "execution_count": null,
   "id": "7cb99c57",
   "metadata": {},
   "outputs": [],
   "source": []
  }
 ],
 "metadata": {
  "kernelspec": {
   "display_name": "Python 3 (ipykernel)",
   "language": "python",
   "name": "python3"
  },
  "language_info": {
   "codemirror_mode": {
    "name": "ipython",
    "version": 3
   },
   "file_extension": ".py",
   "mimetype": "text/x-python",
   "name": "python",
   "nbconvert_exporter": "python",
   "pygments_lexer": "ipython3",
   "version": "3.9.12"
  }
 },
 "nbformat": 4,
 "nbformat_minor": 5
}

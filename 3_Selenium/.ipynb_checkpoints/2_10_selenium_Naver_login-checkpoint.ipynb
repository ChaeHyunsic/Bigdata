{
 "cells": [
  {
   "cell_type": "markdown",
   "metadata": {},
   "source": [
    "# Selenium 사용하기\n",
    "- pip install selenium\n",
    "- 웹 드라이버 설치(설치된 폴더 기억: C:\\Users\\okcy\\chromedriver_win32)"
   ]
  },
  {
   "cell_type": "code",
   "execution_count": null,
   "metadata": {
    "scrolled": true
   },
   "outputs": [],
   "source": [
    "from selenium import webdriver\n",
    "from selenium.webdriver.common.by import By"
   ]
  },
  {
   "cell_type": "code",
   "execution_count": null,
   "metadata": {
    "scrolled": true
   },
   "outputs": [],
   "source": [
    "driver = webdriver.Chrome(r'./chromedriver.exe')"
   ]
  },
  {
   "cell_type": "code",
   "execution_count": null,
   "metadata": {
    "scrolled": false
   },
   "outputs": [],
   "source": [
    "dir(driver)"
   ]
  },
  {
   "cell_type": "markdown",
   "metadata": {},
   "source": [
    "![webdriver_실행](../images/webdriver_실행.png)"
   ]
  },
  {
   "cell_type": "markdown",
   "metadata": {},
   "source": [
    "## 1. Naver login"
   ]
  },
  {
   "cell_type": "code",
   "execution_count": null,
   "metadata": {
    "scrolled": true
   },
   "outputs": [],
   "source": [
    "driver.get(\"http://naver.com\")"
   ]
  },
  {
   "cell_type": "markdown",
   "metadata": {},
   "source": [
    "### code(프로그램)로 움직일 browser 생성\n",
    "\n",
    "![webdriver_실행](../images/webdriver_naver_0.png)"
   ]
  },
  {
   "cell_type": "markdown",
   "metadata": {},
   "source": [
    "### 로그인 button 누르기\n",
    "\n",
    "- 로그인버튼의 XPath 복사\n",
    "\n",
    "![버튼누르기](../images/webdriver_naver_1.png)"
   ]
  },
  {
   "cell_type": "markdown",
   "metadata": {},
   "source": [
    "### XPath(XML Path Language)\n",
    "- http://tcpschool.com/xml/xml_xpath_intro, https://www.w3.org/TR/xpath-31/\n",
    "- XML 문서의 특정 요소나 속성에 접근하기 위한 경로를 지정하는 언어\n",
    "- XML DOM에서 노드를 검색할 때에도 사용"
   ]
  },
  {
   "cell_type": "code",
   "execution_count": null,
   "metadata": {
    "scrolled": true
   },
   "outputs": [],
   "source": [
    "# xpath로 접근한다면\n",
    "#driver.find_element_by_xpath(\"\"\"//*[@id=\"account\"]/a\"\"\").click()\n",
    "\n",
    "# class name으로 접근한다면\n",
    "driver.find_element(By.CLASS_NAME, \"ico_naver\").click() "
   ]
  },
  {
   "cell_type": "markdown",
   "metadata": {},
   "source": [
    "![로긴버턴후](../images/webdriver_naver_2.png)"
   ]
  },
  {
   "cell_type": "markdown",
   "metadata": {},
   "source": [
    "### ID, 비밀번호 입력 후 로그인\n",
    "\n",
    "![ID_PW](../images/webdriver_naver_3.png)"
   ]
  },
  {
   "cell_type": "code",
   "execution_count": null,
   "metadata": {
    "scrolled": true
   },
   "outputs": [],
   "source": [
    "elem_login = driver.find_element(By.ID, \"id\")\n",
    "elem_login.clear()\n",
    "elem_login.send_keys(\"cogustlr630\") #자신의 ID을 넣으세요"
   ]
  },
  {
   "cell_type": "code",
   "execution_count": null,
   "metadata": {
    "scrolled": true
   },
   "outputs": [],
   "source": [
    "elem_login = driver.find_element(By.ID, \"pw\")\n",
    "elem_login.clear()\n",
    "elem_login.send_keys(\"\") #자신의 비번을 넣으세요"
   ]
  },
  {
   "cell_type": "code",
   "execution_count": null,
   "metadata": {
    "scrolled": true
   },
   "outputs": [],
   "source": [
    "#xpath = \"\"\"//*[@id=\"log.login\"]\"\"\"\n",
    "#driver.find_element_by_xpath(xpath).click()\n",
    "driver.find_element(By.ID, \"log.login\").click() "
   ]
  },
  {
   "cell_type": "markdown",
   "metadata": {},
   "source": [
    "## //*[@id=\"log.login\"]"
   ]
  },
  {
   "cell_type": "markdown",
   "metadata": {},
   "source": [
    "# 로그인 화면\n",
    "\n",
    "![로그인후](../images/webdriver_naver_4.png)"
   ]
  },
  {
   "cell_type": "markdown",
   "metadata": {},
   "source": [
    "## 2. 메일(mail.naver.com) 접근"
   ]
  },
  {
   "cell_type": "code",
   "execution_count": null,
   "metadata": {
    "scrolled": true
   },
   "outputs": [],
   "source": [
    "driver.get(\"http://mail.naver.com\")"
   ]
  },
  {
   "cell_type": "markdown",
   "metadata": {},
   "source": [
    "![메일](../images/webdriver_naver_5.png)"
   ]
  },
  {
   "cell_type": "markdown",
   "metadata": {},
   "source": [
    "### 메일 페이지 읽어 오기"
   ]
  },
  {
   "cell_type": "code",
   "execution_count": null,
   "metadata": {
    "scrolled": true
   },
   "outputs": [],
   "source": [
    "from bs4 import BeautifulSoup\n",
    "\n",
    "html = driver.page_source\n",
    "soup = BeautifulSoup(html, 'html.parser')"
   ]
  },
  {
   "cell_type": "code",
   "execution_count": null,
   "metadata": {
    "scrolled": false
   },
   "outputs": [],
   "source": [
    "soup"
   ]
  },
  {
   "cell_type": "markdown",
   "metadata": {},
   "source": [
    "![메일보낸사람](../images/webdriver_naver_6.png)"
   ]
  },
  {
   "cell_type": "code",
   "execution_count": null,
   "metadata": {
    "scrolled": true
   },
   "outputs": [],
   "source": [
    "raw_list = soup.find_all('div', attrs={'class':'subject'})\n",
    "raw_list[0]"
   ]
  },
  {
   "cell_type": "code",
   "execution_count": null,
   "metadata": {
    "scrolled": true
   },
   "outputs": [],
   "source": [
    "send_list = [raw_list[n].find('span').get_text() for n in range(0, len(raw_list))]\n",
    "send_list"
   ]
  },
  {
   "cell_type": "code",
   "execution_count": null,
   "metadata": {
    "scrolled": true
   },
   "outputs": [],
   "source": [
    "raw_list[0].find_all('strong')"
   ]
  },
  {
   "cell_type": "code",
   "execution_count": null,
   "metadata": {
    "scrolled": true
   },
   "outputs": [],
   "source": [
    "import re\n",
    "result=[]\n",
    "p= re.compile(r'.+제목:(.+)')     \n",
    "for n in range(0, len(raw_list)):\n",
    "    mail=raw_list[n].find('span').get_text()\n",
    "    title=p.match(mail).group(1)\n",
    "    result.append(title)\n",
    "result"
   ]
  },
  {
   "cell_type": "code",
   "execution_count": null,
   "metadata": {
    "scrolled": true
   },
   "outputs": [],
   "source": [
    "driver.close()"
   ]
  },
  {
   "cell_type": "code",
   "execution_count": null,
   "metadata": {
    "scrolled": true
   },
   "outputs": [],
   "source": [
    "driver.quit()"
   ]
  }
 ],
 "metadata": {
  "kernelspec": {
   "display_name": "Python 3 (ipykernel)",
   "language": "python",
   "name": "python3"
  },
  "language_info": {
   "codemirror_mode": {
    "name": "ipython",
    "version": 3
   },
   "file_extension": ".py",
   "mimetype": "text/x-python",
   "name": "python",
   "nbconvert_exporter": "python",
   "pygments_lexer": "ipython3",
   "version": "3.9.12"
  }
 },
 "nbformat": 4,
 "nbformat_minor": 2
}
